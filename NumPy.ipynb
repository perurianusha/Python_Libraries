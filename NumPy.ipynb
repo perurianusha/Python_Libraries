{
  "cells": [
    {
      "cell_type": "markdown",
      "metadata": {
        "id": "view-in-github",
        "colab_type": "text"
      },
      "source": [
        "<a href=\"https://colab.research.google.com/github/perurianusha/Python_Libraries/blob/main/NumPy.ipynb\" target=\"_parent\"><img src=\"https://colab.research.google.com/assets/colab-badge.svg\" alt=\"Open In Colab\"/></a>"
      ]
    },
    {
      "cell_type": "code",
      "execution_count": null,
      "metadata": {
        "id": "g7xJe6vCvbep"
      },
      "outputs": [],
      "source": [
        "import numpy as np"
      ]
    },
    {
      "cell_type": "code",
      "execution_count": null,
      "metadata": {
        "colab": {
          "base_uri": "https://localhost:8080/"
        },
        "id": "CGx4CHRFvoS8",
        "outputId": "24e2e307-3f92-4350-cec2-00e3838d8867"
      },
      "outputs": [
        {
          "name": "stdout",
          "output_type": "stream",
          "text": [
            "[1 2 3]\n"
          ]
        }
      ],
      "source": [
        "a=np.array([1,2,3])\n",
        "print(a)"
      ]
    },
    {
      "cell_type": "code",
      "execution_count": null,
      "metadata": {
        "colab": {
          "base_uri": "https://localhost:8080/"
        },
        "id": "PUObqZgXwn7v",
        "outputId": "2861433a-b1a6-4b35-e821-6d356f3af216"
      },
      "outputs": [
        {
          "name": "stdout",
          "output_type": "stream",
          "text": [
            "[[9 5 6 3 4]\n",
            " [6 8 9 0 3]]\n"
          ]
        }
      ],
      "source": [
        "b=np.array([[9,5,6,3,4],[6,8,9,0,3]])\n",
        "print(b)"
      ]
    },
    {
      "cell_type": "code",
      "execution_count": null,
      "metadata": {
        "colab": {
          "base_uri": "https://localhost:8080/"
        },
        "id": "DmnBHjuaxTZC",
        "outputId": "91fc9a92-c16e-406c-d9f5-0cc9c60f5672"
      },
      "outputs": [
        {
          "name": "stdout",
          "output_type": "stream",
          "text": [
            "1\n",
            "2\n"
          ]
        }
      ],
      "source": [
        "#get dimension\n",
        "print(a.ndim)\n",
        "print(b.ndim)"
      ]
    },
    {
      "cell_type": "code",
      "execution_count": null,
      "metadata": {
        "colab": {
          "base_uri": "https://localhost:8080/"
        },
        "id": "RAKuKsoNxfd4",
        "outputId": "0867bb7a-1906-4869-c27f-eb0c7029f2a6"
      },
      "outputs": [
        {
          "name": "stdout",
          "output_type": "stream",
          "text": [
            "(3,)\n",
            "(2, 5)\n"
          ]
        }
      ],
      "source": [
        "#get shape\n",
        "print(a.shape) # row ,col\n",
        "print(b.shape)"
      ]
    },
    {
      "cell_type": "code",
      "execution_count": null,
      "metadata": {
        "colab": {
          "base_uri": "https://localhost:8080/"
        },
        "id": "I44e4DNnyUOR",
        "outputId": "4cdfd3be-4588-4a5b-cf5f-824cc7948129"
      },
      "outputs": [
        {
          "name": "stdout",
          "output_type": "stream",
          "text": [
            "int64\n",
            "int64\n"
          ]
        }
      ],
      "source": [
        "#get type\n",
        "print(a.dtype)\n",
        "print(b.dtype)\n"
      ]
    },
    {
      "cell_type": "code",
      "execution_count": null,
      "metadata": {
        "colab": {
          "base_uri": "https://localhost:8080/"
        },
        "id": "t2KljYDHyhOj",
        "outputId": "41648826-e8d1-4a91-c383-11b8a19978e6"
      },
      "outputs": [
        {
          "name": "stdout",
          "output_type": "stream",
          "text": [
            "8\n",
            "8\n",
            "3\n",
            "10\n"
          ]
        }
      ],
      "source": [
        "#get size\n",
        "print(a.itemsize)\n",
        "print(b.itemsize)\n",
        "#size\n",
        "print(a.size)\n",
        "print(b.size)"
      ]
    },
    {
      "cell_type": "code",
      "execution_count": null,
      "metadata": {
        "colab": {
          "base_uri": "https://localhost:8080/"
        },
        "id": "Iqw4V-HDzU7a",
        "outputId": "59fda956-2253-45ca-80f7-fb0a900dc20b"
      },
      "outputs": [
        {
          "name": "stdout",
          "output_type": "stream",
          "text": [
            "24\n",
            "80\n"
          ]
        }
      ],
      "source": [
        "#get total size\n",
        "print(a.itemsize*a.size)\n",
        "print(b.itemsize*b.size)"
      ]
    },
    {
      "cell_type": "code",
      "execution_count": null,
      "metadata": {
        "id": "AO8SMW61z4cs"
      },
      "outputs": [],
      "source": [
        "#accessing/changing specific elenents rows and columns\n"
      ]
    },
    {
      "cell_type": "code",
      "execution_count": null,
      "metadata": {
        "colab": {
          "base_uri": "https://localhost:8080/"
        },
        "id": "7yUtztey1eeP",
        "outputId": "ef7eb670-3410-4d81-c197-be49e8e6ce5d"
      },
      "outputs": [
        {
          "name": "stdout",
          "output_type": "stream",
          "text": [
            "(2, 7)\n"
          ]
        }
      ],
      "source": [
        "s=np.array([[1,2,3,4,5,6,7],[8,9,10,11,12,13,14]])\n",
        "print(s.shape)"
      ]
    },
    {
      "cell_type": "code",
      "execution_count": null,
      "metadata": {
        "colab": {
          "base_uri": "https://localhost:8080/"
        },
        "id": "O2MZUwRX25vo",
        "outputId": "6c6cfaa0-64ef-4aa1-9f2a-e52a299dfedb"
      },
      "outputs": [
        {
          "name": "stdout",
          "output_type": "stream",
          "text": [
            "[[ 1  2  3  4  5  6  7]\n",
            " [ 8  9 10 11 12 13 14]]\n",
            "[1 2 3 4 5 6 7]\n",
            "[1 2 3 4 5 6 7]\n",
            "[2 3 4]\n",
            "[ 3 10]\n",
            "[ 7 14]\n",
            "[1 8]\n"
          ]
        }
      ],
      "source": [
        "print(s[:])\n",
        "\n",
        "#get a specific row\n",
        "print(s[0])  # 0 row\n",
        "print(s[0,:])\n",
        "print(s[0,1:4])\n",
        "\n",
        "\n",
        "#get a specific column\n",
        "print(s[:,2]) # 2 column\n",
        "print(s[:,6])\n",
        "print(s[:,0])"
      ]
    },
    {
      "cell_type": "code",
      "execution_count": null,
      "metadata": {
        "colab": {
          "base_uri": "https://localhost:8080/"
        },
        "id": "gyTRH5kA2WSo",
        "outputId": "85e538ae-41e4-4a3e-d41a-56ba3901be94"
      },
      "outputs": [
        {
          "name": "stdout",
          "output_type": "stream",
          "text": [
            "13\n",
            "13\n",
            "7\n"
          ]
        }
      ],
      "source": [
        "#get a specific element [r,c]\n",
        "print(s[1,-2]) # row,  0,1,2,3....-3,-2,-1\n",
        "print(s[1,5])\n",
        "print(s[0,-1])"
      ]
    },
    {
      "cell_type": "code",
      "execution_count": null,
      "metadata": {
        "colab": {
          "base_uri": "https://localhost:8080/"
        },
        "id": "sObO3Qao2nzY",
        "outputId": "8ab0a08b-9cb8-4045-8eaf-bf2d2f413d50"
      },
      "outputs": [
        {
          "name": "stdout",
          "output_type": "stream",
          "text": [
            "[2 4 6]\n",
            "[ 9 11 13]\n"
          ]
        }
      ],
      "source": [
        "#[row,start:end:stepsize]\n",
        "print(s[0,1:-1:2])\n",
        "print(s[1,1:-1:2])"
      ]
    },
    {
      "cell_type": "code",
      "execution_count": null,
      "metadata": {
        "colab": {
          "base_uri": "https://localhost:8080/"
        },
        "id": "eMkDaUEt5F0z",
        "outputId": "7ab225c8-18b5-42d7-8967-adf92ea545db"
      },
      "outputs": [
        {
          "name": "stdout",
          "output_type": "stream",
          "text": [
            "[ 1  2  3  4  5 21  7]\n",
            "[ 8  9 10 11 12 20 14]\n",
            "[[ 1  2 99  4  5 21  7]\n",
            " [ 8  9 98 11 12 20 14]]\n"
          ]
        }
      ],
      "source": [
        "#change\n",
        "\n",
        "s[1,5]=20\n",
        "s[0,5]=21\n",
        "print(s[0])\n",
        "print(s[1])\n",
        "\n",
        "s[: , 2]=[99,98]\n",
        "print(s)"
      ]
    },
    {
      "cell_type": "code",
      "execution_count": null,
      "metadata": {
        "colab": {
          "base_uri": "https://localhost:8080/"
        },
        "id": "27PEEKhX5uEl",
        "outputId": "da03d412-18a6-4e80-d854-7034034adb54"
      },
      "outputs": [
        {
          "name": "stdout",
          "output_type": "stream",
          "text": [
            "[[[1 2]\n",
            "  [3 4]]\n",
            "\n",
            " [[9 8]\n",
            "  [7 6]]]\n"
          ]
        }
      ],
      "source": [
        "#3-d examples\n",
        "\n",
        "m=np.array([[[1,2],[3,4]],[[9,8],[7,6]]])\n",
        "print(m)\n"
      ]
    },
    {
      "cell_type": "code",
      "execution_count": null,
      "metadata": {
        "colab": {
          "base_uri": "https://localhost:8080/"
        },
        "id": "A56emhtf9ZF0",
        "outputId": "35ec677d-9f64-41a1-80e4-ba8cf0699ce8"
      },
      "outputs": [
        {
          "name": "stdout",
          "output_type": "stream",
          "text": [
            "[3 4]\n",
            "4\n",
            "[9 8]\n",
            "9\n",
            "[[1 2]\n",
            " [9 8]]\n",
            "[[3 4]\n",
            " [7 6]]\n",
            "[2 8]\n",
            "[3 7]\n"
          ]
        }
      ],
      "source": [
        "#row element /elements\n",
        "print(m[0,1,:])\n",
        "print(m[0,1,1])\n",
        "\n",
        "print(m[1,0,:])\n",
        "print(m[1,0,0])\n",
        "\n",
        "print(m[:,0,:])\n",
        "print(m[:,1,:])\n",
        "\n",
        "#column\n",
        "print(m[:,0,1])\n",
        "print(m[:,1,0])\n",
        "\n"
      ]
    },
    {
      "cell_type": "code",
      "execution_count": null,
      "metadata": {
        "colab": {
          "base_uri": "https://localhost:8080/"
        },
        "id": "Y5q1BmlV9vIU",
        "outputId": "e60d679e-38ce-4e91-cfbc-c9a1bff284d8"
      },
      "outputs": [
        {
          "name": "stdout",
          "output_type": "stream",
          "text": [
            "[[[1 2]\n",
            "  [0 5]]\n",
            "\n",
            " [[9 8]\n",
            "  [0 0]]]\n"
          ]
        }
      ],
      "source": [
        "m[:,1,:]=[[0,5],[0,0]]\n",
        "print(m)"
      ]
    },
    {
      "cell_type": "code",
      "execution_count": null,
      "metadata": {
        "colab": {
          "base_uri": "https://localhost:8080/"
        },
        "id": "25i8uRmx_Xrd",
        "outputId": "de4cc2b5-8619-4157-86fa-7413385e1cf2"
      },
      "outputs": [
        {
          "data": {
            "text/plain": [
              "array([[[ 1,  2],\n",
              "        [12,  5]],\n",
              "\n",
              "       [[ 9,  8],\n",
              "        [13,  0]]])"
            ]
          },
          "execution_count": 18,
          "metadata": {},
          "output_type": "execute_result"
        }
      ],
      "source": [
        "m[:,1,0]=[12,13]\n",
        "m"
      ]
    },
    {
      "cell_type": "code",
      "execution_count": null,
      "metadata": {
        "colab": {
          "base_uri": "https://localhost:8080/"
        },
        "id": "Ojte1WqP_hbt",
        "outputId": "c5b83d67-0065-46a5-f466-7b28aef635a2"
      },
      "outputs": [
        {
          "name": "stdout",
          "output_type": "stream",
          "text": [
            "[[0. 0. 0.]\n",
            " [0. 0. 0.]]\n",
            "\n",
            "\n",
            "[[[0. 0. 0.]\n",
            "  [0. 0. 0.]\n",
            "  [0. 0. 0.]]\n",
            "\n",
            " [[0. 0. 0.]\n",
            "  [0. 0. 0.]\n",
            "  [0. 0. 0.]]]\n",
            "\n",
            "\n",
            "[[1. 1. 1.]\n",
            " [1. 1. 1.]]\n",
            "\n",
            "\n",
            "[[[1. 1. 1.]\n",
            "  [1. 1. 1.]\n",
            "  [1. 1. 1.]]\n",
            "\n",
            " [[1. 1. 1.]\n",
            "  [1. 1. 1.]\n",
            "  [1. 1. 1.]]]\n",
            "\n",
            "\n",
            "[[9 9 9]\n",
            " [9 9 9]]\n",
            "\n",
            "\n",
            "[[[9 9 9]\n",
            "  [9 9 9]]]\n",
            "\n",
            "\n",
            "\n",
            "\n",
            "\n",
            "\n"
          ]
        },
        {
          "data": {
            "text/plain": [
              "array([0.47630407, 0.86620122, 0.5121171 ])"
            ]
          },
          "execution_count": 19,
          "metadata": {},
          "output_type": "execute_result"
        }
      ],
      "source": [
        "#initializing different types of arrays\n",
        "#all os matrix\n",
        "\n",
        "print(np.zeros((2,3)))\n",
        "print(\"\\n\")\n",
        "print(np.zeros((2,3,3)))\n",
        "print(\"\\n\")\n",
        "print(np.ones((2,3)))\n",
        "print(\"\\n\")\n",
        "print(np.ones((2,3,3)))\n",
        "\n",
        "\n",
        "print(\"\\n\")\n",
        "print(np.full((2,3),9))\n",
        "\n",
        "print(\"\\n\")\n",
        "print(np.full(a,9))\n",
        "\n",
        "#random decimal numbers\n",
        "print(\"\\n\")\n",
        "np.random.rand(4,2)\n",
        "\n",
        "#random interger numbers\n",
        "print(\"\\n\")\n",
        "np.random.randint(7,size=(3,3))#in\n",
        "\n",
        "#random decimal numbers\n",
        "print(\"\\n\")\n",
        "np.random.random_sample(a.shape)"
      ]
    },
    {
      "cell_type": "code",
      "execution_count": null,
      "metadata": {
        "colab": {
          "base_uri": "https://localhost:8080/"
        },
        "id": "7MTIM4ukArJS",
        "outputId": "72e4e32c-12e1-4da5-d66b-ba5adc6dbdd8"
      },
      "outputs": [
        {
          "data": {
            "text/plain": [
              "array([[6, 6, 5],\n",
              "       [3, 5, 3],\n",
              "       [4, 5, 4]])"
            ]
          },
          "execution_count": 20,
          "metadata": {},
          "output_type": "execute_result"
        }
      ],
      "source": [
        "np.random.randint(3,7,size=(3,3))#7not included #include"
      ]
    },
    {
      "cell_type": "code",
      "execution_count": null,
      "metadata": {
        "colab": {
          "base_uri": "https://localhost:8080/"
        },
        "id": "AduUSaHOdrhV",
        "outputId": "72b31b47-4163-4652-f46e-2abbd122193a"
      },
      "outputs": [
        {
          "data": {
            "text/plain": [
              "array([[1., 0., 0., 0.],\n",
              "       [0., 1., 0., 0.],\n",
              "       [0., 0., 1., 0.],\n",
              "       [0., 0., 0., 1.]])"
            ]
          },
          "execution_count": 21,
          "metadata": {},
          "output_type": "execute_result"
        }
      ],
      "source": [
        "np.identity(4)"
      ]
    },
    {
      "cell_type": "code",
      "execution_count": null,
      "metadata": {
        "colab": {
          "base_uri": "https://localhost:8080/"
        },
        "id": "LhKhlU8vfZoJ",
        "outputId": "d64a3fd3-eb2b-419e-ab80-64bb175d7199"
      },
      "outputs": [
        {
          "name": "stdout",
          "output_type": "stream",
          "text": [
            "[1 1 1 2 2 2 3 3 3]\n"
          ]
        }
      ],
      "source": [
        "# 1d\n",
        "arr=np.array([1,2,3,])\n",
        "r=np.repeat(arr,3,axis=0)\n",
        "print(r)"
      ]
    },
    {
      "cell_type": "code",
      "execution_count": null,
      "metadata": {
        "colab": {
          "base_uri": "https://localhost:8080/"
        },
        "id": "at0YOEPqfpWe",
        "outputId": "bf01c6cc-7927-41ad-e7c0-194bf1762d12"
      },
      "outputs": [
        {
          "name": "stdout",
          "output_type": "stream",
          "text": [
            "[[1 2 3]\n",
            " [1 2 3]\n",
            " [1 2 3]]\n"
          ]
        }
      ],
      "source": [
        "# 2d\n",
        "arr=np.array([[1,2,3,]])\n",
        "r=np.repeat(arr,3,axis=0)\n",
        "print(r)"
      ]
    },
    {
      "cell_type": "code",
      "execution_count": null,
      "metadata": {
        "colab": {
          "base_uri": "https://localhost:8080/"
        },
        "id": "1eHHjOJSf4V4",
        "outputId": "bc2376fa-8a45-4299-f4a5-46a64f5824aa"
      },
      "outputs": [
        {
          "name": "stdout",
          "output_type": "stream",
          "text": [
            "[[1. 1. 1. 1. 1.]\n",
            " [1. 1. 1. 1. 1.]\n",
            " [1. 1. 1. 1. 1.]\n",
            " [1. 1. 1. 1. 1.]\n",
            " [1. 1. 1. 1. 1.]]\n"
          ]
        },
        {
          "data": {
            "text/plain": [
              "array([[1., 1., 1., 1., 1.],\n",
              "       [1., 0., 0., 0., 1.],\n",
              "       [1., 0., 9., 0., 1.],\n",
              "       [1., 0., 0., 0., 1.],\n",
              "       [1., 1., 1., 1., 1.]])"
            ]
          },
          "execution_count": 24,
          "metadata": {},
          "output_type": "execute_result"
        }
      ],
      "source": [
        "hw=np.ones((5,5))\n",
        "print(hw)\n",
        "hw[1,1:4]=[0,0,0]\n",
        "hw[3,1:4]=[0,0,0]\n",
        "hw[2,1]=0\n",
        "hw[2,-2]=0\n",
        "hw[2,2]=9\n",
        "hw"
      ]
    },
    {
      "cell_type": "code",
      "execution_count": null,
      "metadata": {
        "colab": {
          "base_uri": "https://localhost:8080/"
        },
        "id": "ah9xPr86gyAN",
        "outputId": "739a60da-d3e2-4b86-e04e-aaabe7cfbcf3"
      },
      "outputs": [
        {
          "name": "stdout",
          "output_type": "stream",
          "text": [
            "[[1. 1. 1. 1. 1.]\n",
            " [1. 1. 1. 1. 1.]\n",
            " [1. 1. 1. 1. 1.]\n",
            " [1. 1. 1. 1. 1.]\n",
            " [1. 1. 1. 1. 1.]]\n",
            "[[0. 0. 0.]\n",
            " [0. 9. 0.]\n",
            " [0. 0. 0.]]\n",
            "[[1. 1. 1.]\n",
            " [1. 1. 1.]\n",
            " [1. 1. 1.]]\n",
            "[[1. 1. 1. 1. 1.]\n",
            " [1. 0. 0. 0. 1.]\n",
            " [1. 0. 9. 0. 1.]\n",
            " [1. 0. 0. 0. 1.]\n",
            " [1. 1. 1. 1. 1.]]\n"
          ]
        }
      ],
      "source": [
        "o1=np.ones((5,5))\n",
        "print(o1)\n",
        "\n",
        "o2=np.zeros((3,3))\n",
        "o2[1,1]=9\n",
        "print(o2)\n",
        "\n",
        "print(o1[1:-1,1:-1])#1st row to the 4th row(1:4)....1st col to the 4th col(1:4)\n",
        "\n",
        "o1[1:4,1:4]=o2\n",
        "\n",
        "print(o1)"
      ]
    },
    {
      "cell_type": "code",
      "execution_count": null,
      "metadata": {
        "colab": {
          "base_uri": "https://localhost:8080/"
        },
        "id": "eXLYqo84ic-f",
        "outputId": "7ccb898c-2cd8-4bd9-9e39-7534699ce070"
      },
      "outputs": [
        {
          "name": "stdout",
          "output_type": "stream",
          "text": [
            "[100   2   3]\n",
            "[100   2   3]\n",
            "[1 2 3]\n"
          ]
        }
      ],
      "source": [
        "#be carful while copying\n",
        "a=np.array([1,2,3])\n",
        "b=a\n",
        "b[0]=100\n",
        "print(a)\n",
        "\n",
        "\n",
        "a=np.array([1,2,3])\n",
        "b=a.copy()\n",
        "b[0]=100\n",
        "print(b)\n",
        "print(a)"
      ]
    },
    {
      "cell_type": "code",
      "execution_count": null,
      "metadata": {
        "colab": {
          "base_uri": "https://localhost:8080/"
        },
        "id": "Be7PjPppke4J",
        "outputId": "15314438-c387-4e97-9983-d49f042aaa3c"
      },
      "outputs": [
        {
          "name": "stdout",
          "output_type": "stream",
          "text": [
            "[3 4 5 6]\n",
            "[-1  0  1  2]\n",
            "[2 4 6 8]\n",
            "[0.5 1.  1.5 2. ]\n",
            "[10 10 10 10]\n",
            "[ 0.54030231 -0.41614684 -0.9899925  -0.65364362]\n"
          ]
        }
      ],
      "source": [
        "z=np.array([1,2,3,4])\n",
        "k=np.array([9,8,7,6])\n",
        "print(z+2)\n",
        "print(z-2)\n",
        "print(z*2)\n",
        "print(z/2)\n",
        "print(z+k)\n",
        "\n",
        "print(np.cos(z))"
      ]
    },
    {
      "cell_type": "code",
      "execution_count": null,
      "metadata": {
        "colab": {
          "base_uri": "https://localhost:8080/"
        },
        "id": "8ahXNLF1lPB2",
        "outputId": "b9524932-bb7a-4fa9-d79f-b87e51351f66"
      },
      "outputs": [
        {
          "name": "stdout",
          "output_type": "stream",
          "text": [
            "[[1. 1. 1.]\n",
            " [1. 1. 1.]]\n",
            "[[2 2]\n",
            " [2 2]\n",
            " [2 2]]\n"
          ]
        },
        {
          "data": {
            "text/plain": [
              "array([[6., 6.],\n",
              "       [6., 6.]])"
            ]
          },
          "execution_count": 28,
          "metadata": {},
          "output_type": "execute_result"
        }
      ],
      "source": [
        "#linear algebra\n",
        "\n",
        "a=np.ones((2,3))\n",
        "print(a)\n",
        "\n",
        "b=np.full((3,2),2)\n",
        "print(b)\n",
        "\n",
        "np.matmul(a,b)"
      ]
    },
    {
      "cell_type": "code",
      "execution_count": null,
      "metadata": {
        "colab": {
          "base_uri": "https://localhost:8080/"
        },
        "id": "NRm0n3-cnTTm",
        "outputId": "4a54c5f8-1784-4af0-f32e-6ce04e466e92"
      },
      "outputs": [
        {
          "data": {
            "text/plain": [
              "1.0"
            ]
          },
          "execution_count": 29,
          "metadata": {},
          "output_type": "execute_result"
        }
      ],
      "source": [
        "#determinant\n",
        "c=np.identity(3)\n",
        "np.linalg.det(c)"
      ]
    },
    {
      "cell_type": "code",
      "execution_count": null,
      "metadata": {
        "colab": {
          "base_uri": "https://localhost:8080/"
        },
        "id": "if0Y9sxhnixG",
        "outputId": "c8f9d3b1-7d43-4d1c-8c36-737991e7171c"
      },
      "outputs": [
        {
          "name": "stdout",
          "output_type": "stream",
          "text": [
            "[[1 2 3]\n",
            " [4 5 6]]\n",
            "1\n",
            "6\n",
            "21\n",
            "[1 2 3]\n",
            "[3 6]\n",
            "[ 6 15]\n"
          ]
        }
      ],
      "source": [
        "#statistics\n",
        "\n",
        "st=np.array([[1,2,3],[4,5,6]])\n",
        "print(st)\n",
        "print(np.min(st))\n",
        "print(np.max(st))\n",
        "print(np.sum(st))\n",
        "\n",
        "\n",
        "print(np.min(st,axis=0))#row axis=0 min row\n",
        "print(np.max(st,axis=1))#col axis=1 max col\n",
        "print(np.sum(st,axis=1))"
      ]
    },
    {
      "cell_type": "code",
      "execution_count": null,
      "metadata": {
        "colab": {
          "base_uri": "https://localhost:8080/"
        },
        "id": "UJWvBOtDoQ_k",
        "outputId": "8299522d-4e94-4f74-e4c3-1a4aeca04a87"
      },
      "outputs": [
        {
          "name": "stdout",
          "output_type": "stream",
          "text": [
            "[[1 2 3]\n",
            " [4 5 6]]\n",
            "[[1]\n",
            " [2]\n",
            " [3]\n",
            " [4]\n",
            " [5]\n",
            " [6]]\n"
          ]
        }
      ],
      "source": [
        "#reorganizing arrays\n",
        "\n",
        "t=np.array([[1,2,3],[4,5,6]])\n",
        "print(t)\n",
        "\n",
        "tf=t.reshape((6,1))\n",
        "print(tf)\n",
        "\n"
      ]
    },
    {
      "cell_type": "code",
      "execution_count": null,
      "metadata": {
        "colab": {
          "base_uri": "https://localhost:8080/"
        },
        "id": "rURCOqeEqOFZ",
        "outputId": "448acdc5-95c8-4c81-81c3-c2e0e64e32bc"
      },
      "outputs": [
        {
          "data": {
            "text/plain": [
              "array([[1, 2, 3, 4],\n",
              "       [5, 6, 7, 8],\n",
              "       [1, 2, 3, 4],\n",
              "       [5, 6, 7, 8]])"
            ]
          },
          "execution_count": 32,
          "metadata": {},
          "output_type": "execute_result"
        }
      ],
      "source": [
        "#vertically stacking vectors\n",
        "\n",
        "v1=np.array([1,2,3,4])\n",
        "v2=np.array([5,6,7,8])\n",
        "\n",
        "np.vstack([v1,v2,v1,v2])"
      ]
    },
    {
      "cell_type": "code",
      "execution_count": null,
      "metadata": {
        "colab": {
          "base_uri": "https://localhost:8080/"
        },
        "id": "REaRWp45q9Vc",
        "outputId": "e1591c9e-aa7b-4ae3-bb37-2ce6ca9ade2e"
      },
      "outputs": [
        {
          "data": {
            "text/plain": [
              "array([1, 2, 3, 4, 5, 6, 7, 8, 1, 2, 3, 4, 5, 6, 7, 8])"
            ]
          },
          "execution_count": 33,
          "metadata": {},
          "output_type": "execute_result"
        }
      ],
      "source": [
        "#horizonal stacking vectors\n",
        "\n",
        "v1=np.array([1,2,3,4])\n",
        "v2=np.array([5,6,7,8])\n",
        "\n",
        "np.hstack([v1,v2,v1,v2])"
      ]
    },
    {
      "cell_type": "code",
      "execution_count": null,
      "metadata": {
        "colab": {
          "base_uri": "https://localhost:8080/",
          "height": 380
        },
        "id": "0GSePt9rrJIV",
        "outputId": "9cc7706b-4856-4bba-b60c-64f6c3e9642a"
      },
      "outputs": [
        {
          "ename": "FileNotFoundError",
          "evalue": "ignored",
          "output_type": "error",
          "traceback": [
            "\u001b[0;31m---------------------------------------------------------------------------\u001b[0m",
            "\u001b[0;31mFileNotFoundError\u001b[0m                         Traceback (most recent call last)",
            "\u001b[0;32m<ipython-input-35-1df6da6057a1>\u001b[0m in \u001b[0;36m<cell line: 5>\u001b[0;34m()\u001b[0m\n\u001b[1;32m      3\u001b[0m \u001b[0;31m#load data from file\u001b[0m\u001b[0;34m\u001b[0m\u001b[0;34m\u001b[0m\u001b[0m\n\u001b[1;32m      4\u001b[0m \u001b[0;34m\u001b[0m\u001b[0m\n\u001b[0;32m----> 5\u001b[0;31m \u001b[0mf\u001b[0m\u001b[0;34m=\u001b[0m\u001b[0mnp\u001b[0m\u001b[0;34m.\u001b[0m\u001b[0mgenfromtxt\u001b[0m\u001b[0;34m(\u001b[0m\u001b[0;34m'/data.txt'\u001b[0m\u001b[0;34m,\u001b[0m\u001b[0mdelimiter\u001b[0m\u001b[0;34m=\u001b[0m\u001b[0;34m','\u001b[0m\u001b[0;34m)\u001b[0m\u001b[0;34m\u001b[0m\u001b[0;34m\u001b[0m\u001b[0m\n\u001b[0m\u001b[1;32m      6\u001b[0m \u001b[0mf\u001b[0m\u001b[0;34m=\u001b[0m\u001b[0mf\u001b[0m\u001b[0;34m.\u001b[0m\u001b[0mastype\u001b[0m\u001b[0;34m(\u001b[0m\u001b[0;34m'int32'\u001b[0m\u001b[0;34m)\u001b[0m\u001b[0;34m\u001b[0m\u001b[0;34m\u001b[0m\u001b[0m\n\u001b[1;32m      7\u001b[0m \u001b[0mprint\u001b[0m\u001b[0;34m(\u001b[0m\u001b[0mf\u001b[0m\u001b[0;34m)\u001b[0m\u001b[0;34m\u001b[0m\u001b[0;34m\u001b[0m\u001b[0m\n",
            "\u001b[0;32m/usr/local/lib/python3.10/dist-packages/numpy/lib/npyio.py\u001b[0m in \u001b[0;36mgenfromtxt\u001b[0;34m(fname, dtype, comments, delimiter, skip_header, skip_footer, converters, missing_values, filling_values, usecols, names, excludelist, deletechars, replace_space, autostrip, case_sensitive, defaultfmt, unpack, usemask, loose, invalid_raise, max_rows, encoding, like)\u001b[0m\n\u001b[1;32m   1811\u001b[0m             \u001b[0mfname\u001b[0m \u001b[0;34m=\u001b[0m \u001b[0mos_fspath\u001b[0m\u001b[0;34m(\u001b[0m\u001b[0mfname\u001b[0m\u001b[0;34m)\u001b[0m\u001b[0;34m\u001b[0m\u001b[0;34m\u001b[0m\u001b[0m\n\u001b[1;32m   1812\u001b[0m         \u001b[0;32mif\u001b[0m \u001b[0misinstance\u001b[0m\u001b[0;34m(\u001b[0m\u001b[0mfname\u001b[0m\u001b[0;34m,\u001b[0m \u001b[0mstr\u001b[0m\u001b[0;34m)\u001b[0m\u001b[0;34m:\u001b[0m\u001b[0;34m\u001b[0m\u001b[0;34m\u001b[0m\u001b[0m\n\u001b[0;32m-> 1813\u001b[0;31m             \u001b[0mfid\u001b[0m \u001b[0;34m=\u001b[0m \u001b[0mnp\u001b[0m\u001b[0;34m.\u001b[0m\u001b[0mlib\u001b[0m\u001b[0;34m.\u001b[0m\u001b[0m_datasource\u001b[0m\u001b[0;34m.\u001b[0m\u001b[0mopen\u001b[0m\u001b[0;34m(\u001b[0m\u001b[0mfname\u001b[0m\u001b[0;34m,\u001b[0m \u001b[0;34m'rt'\u001b[0m\u001b[0;34m,\u001b[0m \u001b[0mencoding\u001b[0m\u001b[0;34m=\u001b[0m\u001b[0mencoding\u001b[0m\u001b[0;34m)\u001b[0m\u001b[0;34m\u001b[0m\u001b[0;34m\u001b[0m\u001b[0m\n\u001b[0m\u001b[1;32m   1814\u001b[0m             \u001b[0mfid_ctx\u001b[0m \u001b[0;34m=\u001b[0m \u001b[0mcontextlib\u001b[0m\u001b[0;34m.\u001b[0m\u001b[0mclosing\u001b[0m\u001b[0;34m(\u001b[0m\u001b[0mfid\u001b[0m\u001b[0;34m)\u001b[0m\u001b[0;34m\u001b[0m\u001b[0;34m\u001b[0m\u001b[0m\n\u001b[1;32m   1815\u001b[0m         \u001b[0;32melse\u001b[0m\u001b[0;34m:\u001b[0m\u001b[0;34m\u001b[0m\u001b[0;34m\u001b[0m\u001b[0m\n",
            "\u001b[0;32m/usr/local/lib/python3.10/dist-packages/numpy/lib/_datasource.py\u001b[0m in \u001b[0;36mopen\u001b[0;34m(path, mode, destpath, encoding, newline)\u001b[0m\n\u001b[1;32m    191\u001b[0m \u001b[0;34m\u001b[0m\u001b[0m\n\u001b[1;32m    192\u001b[0m     \u001b[0mds\u001b[0m \u001b[0;34m=\u001b[0m \u001b[0mDataSource\u001b[0m\u001b[0;34m(\u001b[0m\u001b[0mdestpath\u001b[0m\u001b[0;34m)\u001b[0m\u001b[0;34m\u001b[0m\u001b[0;34m\u001b[0m\u001b[0m\n\u001b[0;32m--> 193\u001b[0;31m     \u001b[0;32mreturn\u001b[0m \u001b[0mds\u001b[0m\u001b[0;34m.\u001b[0m\u001b[0mopen\u001b[0m\u001b[0;34m(\u001b[0m\u001b[0mpath\u001b[0m\u001b[0;34m,\u001b[0m \u001b[0mmode\u001b[0m\u001b[0;34m,\u001b[0m \u001b[0mencoding\u001b[0m\u001b[0;34m=\u001b[0m\u001b[0mencoding\u001b[0m\u001b[0;34m,\u001b[0m \u001b[0mnewline\u001b[0m\u001b[0;34m=\u001b[0m\u001b[0mnewline\u001b[0m\u001b[0;34m)\u001b[0m\u001b[0;34m\u001b[0m\u001b[0;34m\u001b[0m\u001b[0m\n\u001b[0m\u001b[1;32m    194\u001b[0m \u001b[0;34m\u001b[0m\u001b[0m\n\u001b[1;32m    195\u001b[0m \u001b[0;34m\u001b[0m\u001b[0m\n",
            "\u001b[0;32m/usr/local/lib/python3.10/dist-packages/numpy/lib/_datasource.py\u001b[0m in \u001b[0;36mopen\u001b[0;34m(self, path, mode, encoding, newline)\u001b[0m\n\u001b[1;32m    527\u001b[0m             \u001b[0;32mif\u001b[0m \u001b[0mext\u001b[0m \u001b[0;34m==\u001b[0m \u001b[0;34m'bz2'\u001b[0m\u001b[0;34m:\u001b[0m\u001b[0;34m\u001b[0m\u001b[0;34m\u001b[0m\u001b[0m\n\u001b[1;32m    528\u001b[0m                 \u001b[0mmode\u001b[0m\u001b[0;34m.\u001b[0m\u001b[0mreplace\u001b[0m\u001b[0;34m(\u001b[0m\u001b[0;34m\"+\"\u001b[0m\u001b[0;34m,\u001b[0m \u001b[0;34m\"\"\u001b[0m\u001b[0;34m)\u001b[0m\u001b[0;34m\u001b[0m\u001b[0;34m\u001b[0m\u001b[0m\n\u001b[0;32m--> 529\u001b[0;31m             return _file_openers[ext](found, mode=mode,\n\u001b[0m\u001b[1;32m    530\u001b[0m                                       encoding=encoding, newline=newline)\n\u001b[1;32m    531\u001b[0m         \u001b[0;32melse\u001b[0m\u001b[0;34m:\u001b[0m\u001b[0;34m\u001b[0m\u001b[0;34m\u001b[0m\u001b[0m\n",
            "\u001b[0;31mFileNotFoundError\u001b[0m: [Errno 2] No such file or directory: '/data.txt'"
          ]
        }
      ],
      "source": [
        "#miscellaneous\n",
        "\n",
        "#load data from file\n",
        "\n",
        "f=np.genfromtxt('/data.txt',delimiter=',')\n",
        "f=f.astype('int32')\n",
        "print(f)"
      ]
    },
    {
      "cell_type": "code",
      "execution_count": null,
      "metadata": {
        "id": "VM842ZGSsAlY"
      },
      "outputs": [],
      "source": [
        "#boolean masking andadvanced indexing\n",
        "f>50"
      ]
    },
    {
      "cell_type": "code",
      "execution_count": null,
      "metadata": {
        "id": "Lls5z93yvFbi"
      },
      "outputs": [],
      "source": [
        "print(np.any(f>50,axis=1))\n",
        "print(np.any(f>50,axis=0))"
      ]
    },
    {
      "cell_type": "code",
      "execution_count": null,
      "metadata": {
        "id": "d7tuqRZ-sPtj"
      },
      "outputs": [],
      "source": [
        "(~((f>50) & (f<100)))"
      ]
    },
    {
      "cell_type": "code",
      "execution_count": null,
      "metadata": {
        "id": "qydkffWuw4_Q"
      },
      "outputs": [],
      "source": [
        "(((f>50) & (f<100)))"
      ]
    },
    {
      "cell_type": "code",
      "execution_count": null,
      "metadata": {
        "id": "Ebam1BXXuU_L"
      },
      "outputs": [],
      "source": [
        "x=np.array([1,2,3,4,5,6,7,8,9])\n",
        "a[[1,2,8]]"
      ]
    },
    {
      "cell_type": "code",
      "execution_count": null,
      "metadata": {
        "id": "B2S4SdoHuwzB"
      },
      "outputs": [],
      "source": []
    },
    {
      "cell_type": "code",
      "execution_count": null,
      "metadata": {
        "colab": {
          "base_uri": "https://localhost:8080/"
        },
        "id": "2GwcqJ35yrAj",
        "outputId": "fe95cafc-668c-42df-afb2-ae9951d5941b"
      },
      "outputs": [
        {
          "data": {
            "text/plain": [
              "array([1, 2, 3, 4])"
            ]
          },
          "execution_count": 37,
          "metadata": {},
          "output_type": "execute_result"
        }
      ],
      "source": [
        "ex1=np.array([1,2,3,4])\n",
        "ex1\n"
      ]
    },
    {
      "cell_type": "code",
      "execution_count": null,
      "metadata": {
        "colab": {
          "base_uri": "https://localhost:8080/"
        },
        "id": "xRal5eU-iWpM",
        "outputId": "8b331604-0d80-4485-a629-fd4217e08ba7"
      },
      "outputs": [
        {
          "name": "stdout",
          "output_type": "stream",
          "text": [
            "(4, 2)\n",
            "[[1. 1.]\n",
            " [1. 1.]\n",
            " [1. 1.]\n",
            " [1. 1.]]\n"
          ]
        }
      ],
      "source": [
        "ex2=np.ones([4,2])\n",
        "print(ex2.shape)\n",
        "print(ex2)"
      ]
    },
    {
      "cell_type": "code",
      "execution_count": null,
      "metadata": {
        "colab": {
          "base_uri": "https://localhost:8080/"
        },
        "id": "UF5CZL9PiiY9",
        "outputId": "6ad88a23-6940-42e7-b943-ea7caf7a57c3"
      },
      "outputs": [
        {
          "name": "stdout",
          "output_type": "stream",
          "text": [
            "(2, 4)\n",
            "[[1. 1. 1. 1.]\n",
            " [1. 1. 1. 1.]]\n"
          ]
        }
      ],
      "source": [
        "ex3=ex2.reshape((2,4))\n",
        "print(ex3.shape)\n",
        "print(ex3)"
      ]
    },
    {
      "cell_type": "code",
      "execution_count": null,
      "metadata": {
        "colab": {
          "base_uri": "https://localhost:8080/"
        },
        "id": "O7klEwkWjONM",
        "outputId": "e8b41534-a382-4f52-c947-315d2e9ea902"
      },
      "outputs": [
        {
          "name": "stdout",
          "output_type": "stream",
          "text": [
            "[2 3 4]\n"
          ]
        }
      ],
      "source": [
        "import numpy as np\n",
        "\n",
        "arr = np.array([1, 2, 3, 4, 5])\n",
        "\n",
        "# Slicing to extract a subarray\n",
        "subarray = arr[1:4]  # Get elements from index 1 to index 3\n",
        "print(subarray)     # Output: [2 3 4]"
      ]
    },
    {
      "cell_type": "code",
      "execution_count": null,
      "metadata": {
        "colab": {
          "base_uri": "https://localhost:8080/"
        },
        "id": "1Z-DmqKXk29r",
        "outputId": "c529a3a6-4fe8-418d-edb3-c18bb77fa6da"
      },
      "outputs": [
        {
          "name": "stdout",
          "output_type": "stream",
          "text": [
            "1\n",
            "3\n"
          ]
        }
      ],
      "source": [
        "import numpy as np\n",
        "\n",
        "arr = np.array([1, 2, 3, 4, 5])\n",
        "\n",
        "# Accessing individual elements using indexing\n",
        "print(arr[0])  # Output: 1\n",
        "print(arr[2])  # Output: 3"
      ]
    },
    {
      "cell_type": "code",
      "execution_count": null,
      "metadata": {
        "colab": {
          "base_uri": "https://localhost:8080/"
        },
        "id": "fZmPrk1xk5ue",
        "outputId": "eebe0200-4cae-4d62-b04a-7fdd26835130"
      },
      "outputs": [
        {
          "name": "stdout",
          "output_type": "stream",
          "text": [
            "[[2 4]\n",
            " [5 3]]\n",
            "[[6 4]\n",
            " [1 2]]\n",
            "[[12 16]\n",
            " [ 5  6]]\n",
            "[[12 16]\n",
            " [ 5  6]]\n"
          ]
        }
      ],
      "source": [
        "a=np.array([[2,4],[5,3]])\n",
        "print(a)\n",
        "b=np.array([[6,4],[1,2]])\n",
        "print(b)\n",
        "\n",
        "print(np.multiply(a,b))\n",
        "print(a*b)"
      ]
    },
    {
      "cell_type": "code",
      "execution_count": null,
      "metadata": {
        "colab": {
          "base_uri": "https://localhost:8080/"
        },
        "id": "u9Lfh9yPlku4",
        "outputId": "309dd9b2-c38c-4398-83fc-3901dea815dd"
      },
      "outputs": [
        {
          "name": "stdout",
          "output_type": "stream",
          "text": [
            "3\n",
            "6\n",
            "[1.         1.41421356 1.73205081]\n",
            "[2 4 6]\n",
            "[ 4 10 18]\n",
            "[ 4 10 18]\n"
          ]
        }
      ],
      "source": [
        "import numpy as np\n",
        "\n",
        "arr1 = np.array([1, 2, 3])\n",
        "arr2 = np.array([4, 5, 6])\n",
        "\n",
        "print(max(arr1))\n",
        "print(sum(arr1))\n",
        "print(np.sqrt(arr1))\n",
        "print(arr1*2)\n",
        "\n",
        "result = np.multiply(arr1, arr2)\n",
        "print(result)\n",
        "print(arr1*arr2)"
      ]
    },
    {
      "cell_type": "code",
      "execution_count": null,
      "metadata": {
        "colab": {
          "base_uri": "https://localhost:8080/"
        },
        "id": "U5dbYYL-mDsv",
        "outputId": "32f268b2-9c06-4607-8fa8-c6b9d999a121"
      },
      "outputs": [
        {
          "name": "stdout",
          "output_type": "stream",
          "text": [
            "[False  True False]\n"
          ]
        }
      ],
      "source": [
        "import numpy as np\n",
        "\n",
        "arr1 = np.array([1, 2, 3])\n",
        "arr2 = np.array([2, 2, 2])\n",
        "\n",
        "result = arr1 == arr2\n",
        "print(result)"
      ]
    },
    {
      "cell_type": "code",
      "execution_count": null,
      "metadata": {
        "colab": {
          "base_uri": "https://localhost:8080/"
        },
        "id": "PDlwiOjaqa7T",
        "outputId": "a94ea21c-3831-4f9e-a3d4-dbb5a1a779f5"
      },
      "outputs": [
        {
          "name": "stdout",
          "output_type": "stream",
          "text": [
            "[[1 2]\n",
            " [3 4]]\n",
            "[[5 6]\n",
            " [7 8]]\n",
            "[[1 2]\n",
            " [3 4]\n",
            " [5 6]\n",
            " [7 8]]\n",
            "[[1 2 5 6]\n",
            " [3 4 7 8]]\n",
            "[[1 2]\n",
            " [3 4]\n",
            " [5 6]\n",
            " [7 8]]\n",
            "[[1 2 5 6]\n",
            " [3 4 7 8]]\n"
          ]
        }
      ],
      "source": [
        "import numpy as np\n",
        "\n",
        "arr1 = np.array([[1, 2], [3, 4]])\n",
        "arr2 = np.array([[5, 6], [7, 8]])\n",
        "\n",
        "print(arr1)\n",
        "print(arr2)\n",
        "\n",
        "result = np.concatenate((arr1, arr2), axis=0) #row #vertical\n",
        "print(result)\n",
        "\n",
        "result = np.concatenate((arr1, arr2), axis=1) # col #horizontal\n",
        "print(result)\n",
        "\n",
        "\n",
        "print(np.vstack((arr1,arr2))) #vertical\n",
        "print(np.hstack((arr1,arr2))) #horizontal"
      ]
    },
    {
      "cell_type": "code",
      "execution_count": null,
      "metadata": {
        "colab": {
          "base_uri": "https://localhost:8080/"
        },
        "id": "SdGXhUh8q_5d",
        "outputId": "695ba560-a0bf-4526-ba97-1ae9b8f9402b"
      },
      "outputs": [
        {
          "name": "stdout",
          "output_type": "stream",
          "text": [
            "[[19 22]\n",
            " [43 50]]\n"
          ]
        }
      ],
      "source": [
        "import numpy as np\n",
        "\n",
        "matrix1 = np.array([[1, 2], [3, 4]])\n",
        "matrix2 = np.array([[5, 6], [7, 8]])\n",
        "\n",
        "result = np.matmul(matrix1, matrix2)\n",
        "print(result)"
      ]
    },
    {
      "cell_type": "code",
      "execution_count": null,
      "metadata": {
        "colab": {
          "base_uri": "https://localhost:8080/"
        },
        "id": "KewlyhcgtP3h",
        "outputId": "f2612982-0f67-4fb8-c3c4-ee7f6fbdfaa1"
      },
      "outputs": [
        {
          "name": "stdout",
          "output_type": "stream",
          "text": [
            "[[19 22]\n",
            " [43 50]]\n"
          ]
        }
      ],
      "source": [
        "import numpy as np\n",
        "\n",
        "matrix1 = np.array([[1, 2], [3, 4]])\n",
        "matrix2 = np.array([[5, 6], [7, 8]])\n",
        "\n",
        "result = matrix1 @ matrix2\n",
        "print(result)"
      ]
    },
    {
      "cell_type": "code",
      "execution_count": null,
      "metadata": {
        "colab": {
          "base_uri": "https://localhost:8080/"
        },
        "id": "1Oq0TcAztVYd",
        "outputId": "bb507d9e-7ec4-4300-ec88-b9907d6aae90"
      },
      "outputs": [
        {
          "name": "stdout",
          "output_type": "stream",
          "text": [
            "2.5\n",
            "2.5\n",
            "1.118033988749895\n"
          ]
        }
      ],
      "source": [
        "a=np.array([1,2,3,4])\n",
        "\n",
        "print(np.mean(a))\n",
        "print(np.median(a))\n",
        "print(np.std(a))"
      ]
    },
    {
      "cell_type": "code",
      "execution_count": null,
      "metadata": {
        "colab": {
          "base_uri": "https://localhost:8080/"
        },
        "id": "uLIlmhgvxtUi",
        "outputId": "ebec74dc-610c-4b14-ee21-25e2ddb23238"
      },
      "outputs": [
        {
          "name": "stdout",
          "output_type": "stream",
          "text": [
            "[4 5]\n"
          ]
        }
      ],
      "source": [
        "import numpy as np\n",
        "\n",
        "arr = np.array([1, 2, 3, 4, 5])\n",
        "condition = arr > 3\n",
        "filtered_arr = arr[condition]\n",
        "print(filtered_arr)"
      ]
    },
    {
      "cell_type": "code",
      "execution_count": null,
      "metadata": {
        "colab": {
          "base_uri": "https://localhost:8080/"
        },
        "id": "5yWAE5V4yLWR",
        "outputId": "3cb26d1a-fe4a-46ee-8620-5ad94787cfe7"
      },
      "outputs": [
        {
          "name": "stdout",
          "output_type": "stream",
          "text": [
            "[[1 2 3]\n",
            " [4 5 6]]\n"
          ]
        }
      ],
      "source": [
        "import numpy as np\n",
        "\n",
        "arr = np.array([1, 2, 3, 4, 5, 6])\n",
        "reshaped_arr = np.reshape(arr, (2, 3))\n",
        "print(reshaped_arr)\n"
      ]
    },
    {
      "cell_type": "code",
      "execution_count": null,
      "metadata": {
        "colab": {
          "base_uri": "https://localhost:8080/"
        },
        "id": "aIbkmBdsyOcO",
        "outputId": "34021e33-691f-4894-c923-68fbcb531c9f"
      },
      "outputs": [
        {
          "name": "stdout",
          "output_type": "stream",
          "text": [
            "[-0.3899493  -0.77084837 -0.53721578 -0.90545317  1.44793347 -1.15491711\n",
            " -1.13672695  0.69553436  0.76337825  0.3191943 ]\n"
          ]
        }
      ],
      "source": [
        "import numpy as np\n",
        "\n",
        "random_numbers = np.random.normal(loc=0, scale=1, size=10)\n",
        "print(random_numbers)"
      ]
    },
    {
      "cell_type": "code",
      "execution_count": null,
      "metadata": {
        "colab": {
          "base_uri": "https://localhost:8080/"
        },
        "id": "UxQTwgLIyjEJ",
        "outputId": "54c2b572-7aeb-48a1-f921-f592949f8a73"
      },
      "outputs": [
        {
          "name": "stdout",
          "output_type": "stream",
          "text": [
            "[1 2 3 4 5]\n"
          ]
        }
      ],
      "source": [
        "import numpy as np\n",
        "\n",
        "arr = np.array([1, 2, 3, 4, 5])\n",
        "np.save('array.npy', arr)\n",
        "\n",
        "loaded_arr = np.load('array.npy')\n",
        "print(loaded_arr)\n"
      ]
    },
    {
      "cell_type": "code",
      "execution_count": null,
      "metadata": {
        "id": "TRddQr1LyvhB"
      },
      "outputs": [],
      "source": []
    }
  ],
  "metadata": {
    "colab": {
      "provenance": [],
      "include_colab_link": true
    },
    "kernelspec": {
      "display_name": "Python 3 (ipykernel)",
      "language": "python",
      "name": "python3"
    },
    "language_info": {
      "codemirror_mode": {
        "name": "ipython",
        "version": 3
      },
      "file_extension": ".py",
      "mimetype": "text/x-python",
      "name": "python",
      "nbconvert_exporter": "python",
      "pygments_lexer": "ipython3",
      "version": "3.9.12"
    }
  },
  "nbformat": 4,
  "nbformat_minor": 0
}